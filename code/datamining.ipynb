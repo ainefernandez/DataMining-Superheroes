{
 "cells": [
  {
   "cell_type": "code",
   "execution_count": 11,
   "id": "d67e8d90",
   "metadata": {},
   "outputs": [],
   "source": [
    "import os\n",
    "from dotenv import load_dotenv\n",
    "import requests\n",
    "import pandas as pd "
   ]
  },
  {
   "cell_type": "code",
   "execution_count": 4,
   "id": "03a2bf0d",
   "metadata": {},
   "outputs": [],
   "source": [
    "load_dotenv()\n",
    "token = os.getenv('access_token')\n"
   ]
  },
  {
   "cell_type": "code",
   "execution_count": 12,
   "id": "61ac9a23",
   "metadata": {},
   "outputs": [
    {
     "data": {
      "text/plain": [
       "{'response': 'success',\n",
       " 'id': '70',\n",
       " 'name': 'Batman',\n",
       " 'powerstats': {'intelligence': '100',\n",
       "  'strength': '26',\n",
       "  'speed': '27',\n",
       "  'durability': '50',\n",
       "  'power': '47',\n",
       "  'combat': '100'},\n",
       " 'biography': {'full-name': 'Bruce Wayne',\n",
       "  'alter-egos': 'No alter egos found.',\n",
       "  'aliases': ['Insider', 'Matches Malone'],\n",
       "  'place-of-birth': 'Crest Hill, Bristol Township; Gotham County',\n",
       "  'first-appearance': 'Detective Comics #27',\n",
       "  'publisher': 'DC Comics',\n",
       "  'alignment': 'good'},\n",
       " 'appearance': {'gender': 'Male',\n",
       "  'race': 'Human',\n",
       "  'height': [\"6'2\", '188 cm'],\n",
       "  'weight': ['210 lb', '95 kg'],\n",
       "  'eye-color': 'blue',\n",
       "  'hair-color': 'black'},\n",
       " 'work': {'occupation': 'Businessman',\n",
       "  'base': 'Batcave, Stately Wayne Manor, Gotham City; Hall of Justice, Justice League Watchtower'},\n",
       " 'connections': {'group-affiliation': 'Batman Family, Batman Incorporated, Justice League, Outsiders, Wayne Enterprises, Club of Heroes, formerly White Lantern Corps, Sinestro Corps',\n",
       "  'relatives': 'Damian Wayne (son), Dick Grayson (adopted son), Tim Drake (adopted son), Jason Todd (adopted son), Cassandra Cain (adopted ward)\\nMartha Wayne (mother, deceased), Thomas Wayne (father, deceased), Alfred Pennyworth (former guardian), Roderick Kane (grandfather, deceased), Elizabeth Kane (grandmother, deceased), Nathan Kane (uncle, deceased), Simon Hurt (ancestor), Wayne Family'},\n",
       " 'image': {'url': 'https://www.superherodb.com/pictures2/portraits/10/100/639.jpg'}}"
      ]
     },
     "execution_count": 12,
     "metadata": {},
     "output_type": "execute_result"
    }
   ],
   "source": [
    "base_url=f'https://superheroapi.com/api/{token}/'\n",
    "hero_id = 70\n",
    "response = requests.get(f'{base_url}/{hero_id}')\n",
    "response.json()"
   ]
  },
  {
   "cell_type": "code",
   "execution_count": null,
   "id": "3b8f030d",
   "metadata": {},
   "outputs": [
    {
     "data": {
      "text/plain": [
       "{'intelligence': '100',\n",
       " 'strength': '26',\n",
       " 'speed': '27',\n",
       " 'durability': '50',\n",
       " 'power': '47',\n",
       " 'combat': '100'}"
      ]
     },
     "execution_count": 17,
     "metadata": {},
     "output_type": "execute_result"
    }
   ],
   "source": [
    "prueba = response.json()\n",
    "\n",
    "prueba['powerstats']         "
   ]
  }
 ],
 "metadata": {
  "kernelspec": {
   "display_name": "base",
   "language": "python",
   "name": "python3"
  },
  "language_info": {
   "codemirror_mode": {
    "name": "ipython",
    "version": 3
   },
   "file_extension": ".py",
   "mimetype": "text/x-python",
   "name": "python",
   "nbconvert_exporter": "python",
   "pygments_lexer": "ipython3",
   "version": "3.9.12"
  }
 },
 "nbformat": 4,
 "nbformat_minor": 5
}
